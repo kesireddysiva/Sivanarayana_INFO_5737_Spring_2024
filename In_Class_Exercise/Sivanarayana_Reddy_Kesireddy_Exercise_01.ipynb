{
  "cells": [
    {
      "cell_type": "markdown",
      "metadata": {
        "id": "view-in-github",
        "colab_type": "text"
      },
      "source": [
        "<a href=\"https://colab.research.google.com/github/kesireddysiva/Sivanarayana_INFO_5737_Spring_2024/blob/main/In_Class_Exercise/Sivanarayana_Reddy_Kesireddy_Exercise_01.ipynb\" target=\"_parent\"><img src=\"https://colab.research.google.com/assets/colab-badge.svg\" alt=\"Open In Colab\"/></a>"
      ]
    },
    {
      "cell_type": "markdown",
      "metadata": {
        "id": "DymRJbxDBCnf"
      },
      "source": [
        "# **This first In-class-exercise cover a variety of fundamental concepts in Python and are designed to help individuals improve their coding skills and problem-solving abilities.**\n",
        "\n",
        "The submission is due on 01/31/2024 11:59 PM. This submission is worth 40 points in total.\n"
      ]
    },
    {
      "cell_type": "markdown",
      "source": [
        "(1) Write a Python program that  prompts the user to input the length and width of a rectangle, and then calculates and displays the area of the rectangle."
      ],
      "metadata": {
        "id": "FBKvD6O_TY6e"
      }
    },
    {
      "cell_type": "code",
      "source": [
        "# write your answer here\n",
        "\n",
        "def rectangle(length,width):\n",
        "  area=length*width\n",
        "  return area\n",
        "len=int(input(\"enter the length: \"))\n",
        "wid=int(input(\"eneter the width: \"))\n",
        "result=rectangle(len,wid)\n",
        "print(\"The area of rectangle is:\",result)"
      ],
      "metadata": {
        "id": "cikVKDXdTbzE",
        "colab": {
          "base_uri": "https://localhost:8080/"
        },
        "outputId": "16ca0023-df6f-4795-83a0-313dac917212"
      },
      "execution_count": 21,
      "outputs": [
        {
          "output_type": "stream",
          "name": "stdout",
          "text": [
            "enter the length: 10\n",
            "eneter the width: 20\n",
            "The area of rectangle is: 200\n"
          ]
        }
      ]
    },
    {
      "cell_type": "markdown",
      "source": [
        "(2) Create a Python program that interactively takes two numerical inputs from the user and swaps their values without utilizing an extra variable."
      ],
      "metadata": {
        "id": "E9RqrlwdTfvl"
      }
    },
    {
      "cell_type": "code",
      "source": [
        "# write your answer here\n",
        "def swap(a,b):\n",
        "  print(\"\\n Before swapping the number\")\n",
        "  print(\"The number a is:\" ,a)\n",
        "  print(\"The number b is:\" ,b)\n",
        "  a,b=b,a\n",
        "  print(\"\\n After swapping the number\")\n",
        "  print(\"The number a is:\" ,a)\n",
        "  print(\"The number b is:\" ,b)\n",
        "a=int(input(\"enter first number:\"))\n",
        "b=int(input(\"enter second number:\"))\n",
        "swap(a,b)"
      ],
      "metadata": {
        "id": "4XvRknixTh1g",
        "colab": {
          "base_uri": "https://localhost:8080/"
        },
        "outputId": "061415c0-1cf0-4a0a-f6bf-0bcf3e33ecf2"
      },
      "execution_count": 22,
      "outputs": [
        {
          "output_type": "stream",
          "name": "stdout",
          "text": [
            "enter first number:1\n",
            "enter second number:2\n",
            "\n",
            " Before swapping the number\n",
            "The number a is: 1\n",
            "The number b is: 2\n",
            "\n",
            " After swapping the number\n",
            "The number a is: 2\n",
            "The number b is: 1\n"
          ]
        }
      ]
    },
    {
      "cell_type": "markdown",
      "metadata": {
        "id": "03jb4GZsBkBS"
      },
      "source": [
        "(3) Write a Python script to determine and print the length of a user-input string."
      ]
    },
    {
      "cell_type": "code",
      "execution_count": 1,
      "metadata": {
        "id": "YaGLbSHHB8Ej",
        "colab": {
          "base_uri": "https://localhost:8080/"
        },
        "outputId": "b60a1678-c233-4681-f89f-e9741254478f"
      },
      "outputs": [
        {
          "output_type": "stream",
          "name": "stdout",
          "text": [
            "Enter a string: python\n",
            "6\n"
          ]
        }
      ],
      "source": [
        "# write your answer here\n",
        "# Get user input\n",
        "def str1_length(user_input):\n",
        "  return len(user_input)\n",
        "user_input=input(\"Enter a string: \")\n",
        "print(str1_length(user_input))\n",
        "\n"
      ]
    },
    {
      "cell_type": "markdown",
      "metadata": {
        "id": "jJDe71iLB616"
      },
      "source": [
        "(4) Construct a Python program that counts and displays the occurrences of each character in a given string.\n",
        "\n",
        "Sample String: 'openai.ai',\n",
        "\n",
        "Expected Result: {'a': 2, 'i': 2, '.': 1, 'o': 1, 'p': 1, 'e': 1, 'n': 1}"
      ]
    },
    {
      "cell_type": "code",
      "execution_count": 3,
      "metadata": {
        "id": "MtKskTzbCLaU",
        "colab": {
          "base_uri": "https://localhost:8080/"
        },
        "outputId": "5ecbd357-e876-4612-eef9-04439cadc0c8"
      },
      "outputs": [
        {
          "output_type": "stream",
          "name": "stdout",
          "text": [
            "enter a string :openai.ai\n",
            "{'o': 1, 'p': 1, 'e': 1, 'n': 1, 'a': 2, 'i': 2, '.': 1}\n"
          ]
        }
      ],
      "source": [
        "# write your answer here\n",
        "def word_count(user_input):\n",
        "  str_len=len(user_input)\n",
        "  new_string=''\n",
        "  dict_new={}\n",
        "  for i in range(str_len):\n",
        "    if user_input[i] not in new_string:\n",
        "      dict_new[user_input[i]]=1\n",
        "      new_string=new_string+user_input[i]\n",
        "    else:\n",
        "      dict_new[user_input[i]]+=1\n",
        "  print(dict_new)\n",
        "user_input=input(\"enter a string :\")\n",
        "word_count(user_input)\n",
        "\n"
      ]
    },
    {
      "cell_type": "markdown",
      "metadata": {
        "id": "55W9AMdXCSpV"
      },
      "source": [
        "(5) Design a Python code to calculate the sum of all elements in a user-provided list."
      ]
    },
    {
      "cell_type": "code",
      "execution_count": 4,
      "metadata": {
        "id": "I57NXsauCec2",
        "colab": {
          "base_uri": "https://localhost:8080/"
        },
        "outputId": "2eb5873a-716c-4ece-e53b-de885ece4a26"
      },
      "outputs": [
        {
          "output_type": "stream",
          "name": "stdout",
          "text": [
            "Enter the range for list :5\n",
            "1\n",
            "2\n",
            "3\n",
            "4\n",
            "5\n",
            "The sum of all the elements in list is : 15\n"
          ]
        }
      ],
      "source": [
        "# write your answer here\n",
        "def sum_list(lst):\n",
        "  lst_length=len(lst)\n",
        "  sum=0\n",
        "  for i in lst:\n",
        "    sum=sum+i\n",
        "  print(\"The sum of all the elements in list is :\", sum)\n",
        "n=int(input(\"Enter the range for list :\"))\n",
        "lst=[]\n",
        "for i in range(n):\n",
        "  lst.append(int(input()))\n",
        "sum_list(lst)"
      ]
    },
    {
      "cell_type": "markdown",
      "metadata": {
        "id": "4ulBZ6yhCi9F"
      },
      "source": [
        "(6) Write a Python program that modifies a given string by replacing all occurrences of its first character with '$', excluding the first character itself.\n",
        "\n",
        "\n",
        "Sample String : 'restart‘,\n",
        "\n",
        "Expected Result : 'resta\\$t'"
      ]
    },
    {
      "cell_type": "code",
      "execution_count": 5,
      "metadata": {
        "id": "Fj0XhwbBCw2o",
        "colab": {
          "base_uri": "https://localhost:8080/"
        },
        "outputId": "915074d4-10df-4a4b-e654-f52308ad89d3"
      },
      "outputs": [
        {
          "output_type": "stream",
          "name": "stdout",
          "text": [
            "enter a string :restart\n",
            "resta$t\n"
          ]
        }
      ],
      "source": [
        "# write your answer here\n",
        "def word_count(user_input):\n",
        "  str_len=len(user_input)\n",
        "  new_string=''\n",
        "  for i in range(str_len):\n",
        "    if user_input[i]==user_input[0] and i!=0:\n",
        "      new_string=new_string+'$'\n",
        "\n",
        "    else:\n",
        "      new_string=new_string+user_input[i]\n",
        "  print(new_string)\n",
        "user_input=input(\"enter a string :\")\n",
        "word_count(user_input)\n"
      ]
    },
    {
      "cell_type": "markdown",
      "source": [
        "(7) Write a Python program using a while loop to compute the factorial of a user-supplied number."
      ],
      "metadata": {
        "id": "qVXA3q7ET5JI"
      }
    },
    {
      "cell_type": "code",
      "source": [
        "# write your answer here\n",
        "def factorial(n):\n",
        "  fact=1\n",
        "  while n>=1:\n",
        "    fact=fact*n\n",
        "    n-=1\n",
        "  return fact\n",
        "user_input=int(input(\"Enter a number :\"))\n",
        "result=factorial(user_input)\n",
        "print(\"The factorial of %d is\" % user_input, result)"
      ],
      "metadata": {
        "id": "Lbt7R6UkT7BA",
        "colab": {
          "base_uri": "https://localhost:8080/"
        },
        "outputId": "ae12991f-a832-4ea7-ec7e-ee2346681fd1"
      },
      "execution_count": 6,
      "outputs": [
        {
          "output_type": "stream",
          "name": "stdout",
          "text": [
            "Enter a number :6\n",
            "The factorial of 6 is 720\n"
          ]
        }
      ]
    },
    {
      "cell_type": "markdown",
      "source": [
        "(8) Create a program that accepts a list of numbers as input and outputs a new list containing only the even numbers."
      ],
      "metadata": {
        "id": "6YfbzXMNT--R"
      }
    },
    {
      "cell_type": "code",
      "source": [
        "2# write your answer here\n",
        "def even_lst(lst):\n",
        "  new_lst=[]\n",
        "  for i in lst:\n",
        "    if i%2==0: # even number check\n",
        "      new_lst.append(i)\n",
        "  print(\"The even list is :\",new_lst)\n",
        "n=int(input(\"Enter range for list :\"))\n",
        "lst=[]\n",
        "for i in range(n):\n",
        "  lst.append(int(input()))\n",
        "\n",
        "even_lst(lst)"
      ],
      "metadata": {
        "id": "54q7wMQPUAKu",
        "colab": {
          "base_uri": "https://localhost:8080/"
        },
        "outputId": "d880a7c9-f1e9-46c6-b17a-d68e56dd3838"
      },
      "execution_count": 8,
      "outputs": [
        {
          "output_type": "stream",
          "name": "stdout",
          "text": [
            "Enter range for list :4\n",
            "1\n",
            "2\n",
            "3\n",
            "4\n",
            "The even list is : [2, 4]\n"
          ]
        }
      ]
    },
    {
      "cell_type": "markdown",
      "metadata": {
        "id": "_bIP7s1MCzue"
      },
      "source": [
        "\n",
        "(9) Design a Python function to check if a number is prime.\n"
      ]
    },
    {
      "cell_type": "code",
      "execution_count": 9,
      "metadata": {
        "id": "w79QilHXD3Mg",
        "colab": {
          "base_uri": "https://localhost:8080/"
        },
        "outputId": "7042ca66-7975-48aa-9f0d-9c63c6e1c2c6"
      },
      "outputs": [
        {
          "output_type": "stream",
          "name": "stdout",
          "text": [
            "Enter a number: 13\n",
            "Given Number 13 is a prime number\n"
          ]
        }
      ],
      "source": [
        "# write your answer here\n",
        "def is_prime(n):\n",
        "    if n <= 1:\n",
        "        print(\"Given Number %d is not a prime number\" % n)  # if the number is less than or equal to 1, it's not a prime number\n",
        "\n",
        "    for i in range(2, int(n**0.5) + 1):\n",
        "        if n % i == 0:\n",
        "            print(\"Given Number %d is not a prime number\" % n)  # If the number is divisible by any integer in the range, it's not prime\n",
        "            break\n",
        "\n",
        "    else:\n",
        "        print(\"Given Number %d is a prime number\" % n)  # If no divisors were found, the number is prime\n",
        "\n",
        "\n",
        "user_input = int(input(\"Enter a number: \"))\n",
        "is_prime(user_input)\n",
        "\n"
      ]
    },
    {
      "cell_type": "markdown",
      "metadata": {
        "id": "xCa2bK9aD4Q3"
      },
      "source": [
        "(10) Write a Python program to concatenate following dictionaries to create a new one.\n",
        "\n",
        "Sample Dictionary : dic1={1:10, 2:20}, dic2={3:30, 4:40}, dic3={5:50,6:60},\n",
        "\n",
        "Expected Result : {1: 10, 2: 20, 3: 30, 4: 40, 5: 50, 6: 60}\n"
      ]
    },
    {
      "cell_type": "code",
      "execution_count": 10,
      "metadata": {
        "id": "_z4aLqAbEET1",
        "colab": {
          "base_uri": "https://localhost:8080/"
        },
        "outputId": "3b6555f0-e3e3-4a93-b1c1-70584750019a"
      },
      "outputs": [
        {
          "output_type": "execute_result",
          "data": {
            "text/plain": [
              "{1: 10, 2: 20, 3: 30, 4: 40, 5: 50, 6: 60}"
            ]
          },
          "metadata": {},
          "execution_count": 10
        }
      ],
      "source": [
        "# write your answer here\n",
        "dict_1={1:10, 2:20}\n",
        "dict_2={3:30, 4:40}\n",
        "dict_3={5:50,6:60}\n",
        "merged_dict = dict_1 | dict_2| dict_3\n",
        "merged_dict\n"
      ]
    },
    {
      "cell_type": "markdown",
      "source": [
        "(11) Design a Python function that takes a tuple of integers as input and returns the largest and smallest elements."
      ],
      "metadata": {
        "id": "bkyZ2xSZUOst"
      }
    },
    {
      "cell_type": "code",
      "source": [
        "# # write your answer here\n",
        "def min_and_max(tup):\n",
        "  min=max=tup[0]\n",
        "  for i in range(len(tup)):\n",
        "    if tup[i]>max:\n",
        "      max=tup[i]\n",
        "    elif tup[i]<min:\n",
        "      min=tup[i]\n",
        "  print(\"Largest element:\", max)\n",
        "  print(\"Smallest element:\", min)\n",
        "tup=(99,29,76,89,2)\n",
        "min_and_max(tup)\n"
      ],
      "metadata": {
        "id": "3FdLRBKOUQEd",
        "colab": {
          "base_uri": "https://localhost:8080/"
        },
        "outputId": "32aa1801-f4ef-48ff-b908-89bff1a1eb2d"
      },
      "execution_count": 11,
      "outputs": [
        {
          "output_type": "stream",
          "name": "stdout",
          "text": [
            "Largest element: 99\n",
            "Smallest element: 2\n"
          ]
        }
      ]
    },
    {
      "cell_type": "markdown",
      "source": [
        "(12) Write a Python program that counts the frequency of each character in a given string and stores it in a dictionary."
      ],
      "metadata": {
        "id": "O0TVi3gKUTpp"
      }
    },
    {
      "cell_type": "code",
      "source": [
        "# write your answer here\n",
        "def word_count(user_input):\n",
        "  str_len=len(user_input)\n",
        "  new_string=''\n",
        "  dict_new={}\n",
        "  for i in range(str_len):\n",
        "    if user_input[i] not in new_string:\n",
        "      dict_new[user_input[i]]=1\n",
        "      new_string=new_string+user_input[i]\n",
        "    else:\n",
        "      dict_new[user_input[i]]+=1\n",
        "  print(dict_new)\n",
        "user_input=input(\"enter a string :\")\n",
        "word_count(user_input)\n",
        "\n",
        "\n"
      ],
      "metadata": {
        "id": "lAtfSfZXUU-h",
        "colab": {
          "base_uri": "https://localhost:8080/"
        },
        "outputId": "5d51e9af-dde5-46a8-ad10-3993033f311d"
      },
      "execution_count": 12,
      "outputs": [
        {
          "output_type": "stream",
          "name": "stdout",
          "text": [
            "enter a string :Hello World!\n",
            "{'H': 1, 'e': 1, 'l': 3, 'o': 2, ' ': 1, 'W': 1, 'r': 1, 'd': 1, '!': 1}\n"
          ]
        }
      ]
    },
    {
      "cell_type": "markdown",
      "metadata": {
        "id": "0v48Vqa7FrQh"
      },
      "source": [
        "(13) Implement a Python script to identify duplicate elements in a provided array of integers. Return -1 if there are no duplicates."
      ]
    },
    {
      "cell_type": "code",
      "execution_count": 13,
      "metadata": {
        "id": "7WEmgq-DF2P1",
        "colab": {
          "base_uri": "https://localhost:8080/"
        },
        "outputId": "ccab569f-302e-49c2-fde6-3e2845bf8546"
      },
      "outputs": [
        {
          "output_type": "stream",
          "name": "stdout",
          "text": [
            "Duplicates in arr1: -1\n",
            "Duplicates in arr2: [2]\n"
          ]
        }
      ],
      "source": [
        "# write your answer here\n",
        "def find_duplicates(arr):\n",
        "    duplicates = []\n",
        "\n",
        "    for i in range(len(arr)):\n",
        "        for j in range(i + 1, len(arr)):\n",
        "            if arr[i] == arr[j] and arr[i] not in duplicates:\n",
        "                duplicates.append(arr[i])\n",
        "\n",
        "    if len(duplicates) == 0:\n",
        "        return -1\n",
        "    else:\n",
        "        return duplicates\n",
        "\n",
        "\n",
        "arr1 = [1, 2, 3, 4, 5, 6]\n",
        "arr2 = [1, 2, 3, 4, 5, 2, 6]\n",
        "\n",
        "print(\"Duplicates in arr1:\", find_duplicates(arr1))\n",
        "print(\"Duplicates in arr2:\", find_duplicates(arr2))\n",
        "\n"
      ]
    },
    {
      "cell_type": "markdown",
      "metadata": {
        "id": "vD5PYLMuGga_"
      },
      "source": [
        "(14) Write a Python script to find the common elements between two lists."
      ]
    },
    {
      "cell_type": "code",
      "execution_count": 14,
      "metadata": {
        "id": "t0D5kdJUGjjw",
        "colab": {
          "base_uri": "https://localhost:8080/"
        },
        "outputId": "4ab1bb47-a182-465f-ef2d-eccfe3d65db4"
      },
      "outputs": [
        {
          "output_type": "stream",
          "name": "stdout",
          "text": [
            "[3, 4]\n"
          ]
        }
      ],
      "source": [
        "# write your answer here\n",
        "def common_elements(lst1,lst2):\n",
        "  n1=len(lst1)\n",
        "  n2=len(lst2)\n",
        "  common_lst=[]\n",
        "  if n2>n1 or n1==n2:\n",
        "\n",
        "    for i in range(n2):\n",
        "      if lst2[i] in lst1:\n",
        "        common_lst.append(lst2[i])\n",
        "  else:\n",
        "    for i in range(n1):\n",
        "      if lst1[i] in lst2:\n",
        "        common_lst.append(lst1[i])\n",
        "\n",
        "  print(common_lst)\n",
        "lst1 = [1, 2, 3, 4,9,10]\n",
        "lst2 = [3, 4, 5, 6, 7]\n",
        "common_elements(lst1,lst2)"
      ]
    },
    {
      "cell_type": "markdown",
      "metadata": {
        "id": "uHkd-y5VhVWC"
      },
      "source": [
        "(15) Write a Python program to randomly divide the students in this class into six groups for term projects, each group should have at least 4 students but no more than 6 students (including 6).\n",
        "\n",
        "Here is the students list:\n",
        "\n",
        "student_list_spring_2024=[rb0846,\n",
        "ac1964,\n",
        "hc0612,\n",
        "md0912,\n",
        "ad1198,\n",
        "md0894,\n",
        "md0825,\n",
        "vg0598,\n",
        "vg0433,\n",
        "mh1068,\n",
        "yj0173,\n",
        "pk0553,\n",
        "tk0411,\n",
        "srk0204,\n",
        "sk2922,\n",
        "sk2936,\n",
        "mk1302,\n",
        "mk1317,\n",
        "tk0412,\n",
        "vk0656,\n",
        "sm2985,\n",
        "mm2372,\n",
        "un0045,\n",
        "an0892,\n",
        "sn0913,\n",
        "gp0252,\n",
        "ap1484,\n",
        "mr1765,\n",
        "sr1385,\n",
        "sr1335,\n",
        "hs0665,\n",
        "ms2060,\n",
        "gt0217,\n",
        "nt0385,\n",
        "tv0186,\n",
        "sv1394,\n",
        "sv1752,\n",
        "sv1555,\n",
        "sy0594\n",
        "]\n"
      ]
    },
    {
      "cell_type": "code",
      "execution_count": 15,
      "metadata": {
        "id": "3iGbmcOBhTwy",
        "colab": {
          "base_uri": "https://localhost:8080/"
        },
        "outputId": "1b8b92fc-fd66-469a-e0fc-779f93739b4e"
      },
      "outputs": [
        {
          "output_type": "stream",
          "name": "stdout",
          "text": [
            "Group 1: tk0411, rb0846, sk2936, vg0598, un0045\n",
            "Group 2: mk1317, sr1335, mr1765, mm2372, sv1555\n",
            "Group 3: sy0594, hs0665, sm2985, mk1302, md0825\n",
            "Group 4: ac1964, sr1385, nt0385, sv1752, hc0612\n",
            "Group 5: gt0217, srk0204, mh1068, ap1484, pk0553\n",
            "Group 6: gp0252, tv0186, an0892, yj0173, md0894\n",
            "Group 7: sk2922, ad1198, tk0412, md0912, sv1394\n",
            "Group 8: vk0656, ms2060, sn0913, vg0433\n"
          ]
        }
      ],
      "source": [
        "import random\n",
        "\n",
        "student_list_spring_2024 = [\n",
        "   \"rb0846\", \"ac1964\", \"hc0612\", \"md0912\", \"ad1198\", \"md0894\", \"md0825\", \"vg0598\",\n",
        "   \"vg0433\", \"mh1068\", \"yj0173\", \"pk0553\", \"tk0411\", \"srk0204\", \"sk2922\", \"sk2936\",\n",
        "   \"mk1302\", \"mk1317\", \"tk0412\", \"vk0656\", \"sm2985\", \"mm2372\", \"un0045\", \"an0892\",\n",
        "   \"sn0913\", \"gp0252\", \"ap1484\", \"mr1765\", \"sr1385\", \"sr1335\", \"hs0665\", \"ms2060\",\n",
        "   \"gt0217\", \"nt0385\", \"tv0186\", \"sv1394\", \"sv1752\", \"sv1555\", \"sy0594\"\n",
        "]\n",
        "\n",
        "# Shuffle the student list to ensure random grouping\n",
        "random.shuffle(student_list_spring_2024)\n",
        "\n",
        "#Empty list to store the groups\n",
        "groups = []\n",
        "\n",
        "# Loop until all students are assigned to a group\n",
        "while student_list_spring_2024:\n",
        "   # Create a new group\n",
        "   group = []\n",
        "\n",
        "\n",
        "   while len(group) < 5 and student_list_spring_2024:\n",
        "       group.append(student_list_spring_2024.pop())\n",
        "\n",
        "\n",
        "   while len(group) < 5 and student_list_spring_2024:\n",
        "       group.append(student_list_spring_2024.pop())\n",
        "\n",
        "\n",
        "   groups.append(group)\n",
        "\n",
        "# Print the groups\n",
        "for i, group in enumerate(groups):\n",
        "   print(f\"Group {i+1}: {', '.join(group)}\")\n",
        "\n",
        "\n",
        "\n"
      ]
    },
    {
      "cell_type": "markdown",
      "metadata": {
        "id": "fmZ9vX20Qs3d"
      },
      "source": [
        "(16) Create a program that takes a positive integer 'n' as input and prints the count of even numbers from 1 to 'n'. Optimize the loop using the break statement."
      ]
    },
    {
      "cell_type": "code",
      "execution_count": 16,
      "metadata": {
        "id": "W8Jw6sWMQs3d",
        "colab": {
          "base_uri": "https://localhost:8080/"
        },
        "outputId": "497445d9-acd4-453e-c954-b941b3efc486"
      },
      "outputs": [
        {
          "output_type": "stream",
          "name": "stdout",
          "text": [
            "enter a positive number:10\n",
            "The count of even numbers from 1 to 10 is: 5\n"
          ]
        }
      ],
      "source": [
        "# write your answer here\n",
        "def even_check(n):\n",
        "  count=0\n",
        "  if n>0: # ensuring the n is a positive number\n",
        "    for i in range(1,n+1):\n",
        "      if i%2==0:\n",
        "        count+=1\n",
        "      if i >=n:\n",
        "        break\n",
        "  print(f\"The count of even numbers from 1 to {n} is: {count}\")\n",
        "n=int(input(\"enter a positive number:\"))\n",
        "even_check(n)\n",
        "\n"
      ]
    },
    {
      "cell_type": "markdown",
      "metadata": {
        "id": "hvq4APMhQs3d"
      },
      "source": [
        "(17) Develop a Python function called 'count_vowels' that takes a string as input and returns the count of vowels (both lowercase and uppercase) present in the string, ignoring spaces and non-alphabetic characters."
      ]
    },
    {
      "cell_type": "code",
      "execution_count": 17,
      "metadata": {
        "id": "ZnoxhSglQs3d",
        "colab": {
          "base_uri": "https://localhost:8080/"
        },
        "outputId": "67ec5311-dcf0-4fd3-8fbd-50ac4a58e3c9"
      },
      "outputs": [
        {
          "output_type": "stream",
          "name": "stdout",
          "text": [
            "enter a string: Hello World!\n",
            "The vowels count in the given string is:  3\n"
          ]
        }
      ],
      "source": [
        "# write your answer here\n",
        "def count_vowels(user_input):\n",
        "  str1= user_input.lower()\n",
        "  vowels=['a', 'e', 'i', 'o', 'u']\n",
        "  cnt_vowels=0\n",
        "  for i in range(len(str1)):\n",
        "    # Check if the character is an alphabetic character and is a vowel\n",
        "    if str1[i].isalpha() and str1[i] in vowels:\n",
        "            cnt_vowels += 1\n",
        "\n",
        "  print(\"The vowels count in the given string is: \", cnt_vowels)\n",
        "user_input=input(\"enter a string: \")\n",
        "count_vowels(user_input)\n",
        "\n",
        "\n",
        "\n"
      ]
    },
    {
      "cell_type": "markdown",
      "source": [
        "(18) Create a custom exception named ValueTooSmallError in Python. Write a program that takes user input for an age, and if the entered age is less than 18, raise the ValueTooSmallError with an appropriate error message."
      ],
      "metadata": {
        "id": "55FWoSJPVVM6"
      }
    },
    {
      "cell_type": "code",
      "source": [
        "# write your answer here\n",
        "try:\n",
        "    n = int(input(\"Enter your age: \"))\n",
        "    if n < 18:\n",
        "        raise ValueError(\"Please provide age greater than 18\")\n",
        "except ValueError as e:\n",
        "    print(e)\n",
        "\n"
      ],
      "metadata": {
        "id": "hwtr1wZmVX5A",
        "colab": {
          "base_uri": "https://localhost:8080/"
        },
        "outputId": "2df03529-4440-43bd-95d4-79394912cf85"
      },
      "execution_count": 18,
      "outputs": [
        {
          "output_type": "stream",
          "name": "stdout",
          "text": [
            "Enter your age: 17\n",
            "Please provide age greater than 18\n"
          ]
        }
      ]
    },
    {
      "cell_type": "markdown",
      "source": [
        "(19) Develop a script that reverses a given string without using built-in reverse functions."
      ],
      "metadata": {
        "id": "Q9ecagcaVazW"
      }
    },
    {
      "cell_type": "code",
      "source": [
        "# write your answer here\n",
        "def rev_string(str1):\n",
        "  str1=str1.lower()\n",
        "  new_str1=\"\"\n",
        "  for i in range(len(str1)-1,-1,-1):\n",
        "    new_str1+=str1[i]\n",
        "  print(\"The original string: \", str1)\n",
        "  print(\"The reversed string is: \", new_str1.capitalize())\n",
        "user_input=input(\"Enter a string: \")\n",
        "rev_string(user_input)"
      ],
      "metadata": {
        "id": "gycgckoAVZjR",
        "colab": {
          "base_uri": "https://localhost:8080/"
        },
        "outputId": "e8468a80-8935-4f36-a69e-53d44bcd382f"
      },
      "execution_count": 19,
      "outputs": [
        {
          "output_type": "stream",
          "name": "stdout",
          "text": [
            "Enter a string: Python\n",
            "The original string:  python\n",
            "The reversed string is:  Nohtyp\n"
          ]
        }
      ]
    },
    {
      "cell_type": "markdown",
      "source": [
        "(20) Implement a Python script to generate a random password of a specified length."
      ],
      "metadata": {
        "id": "ZFG6RibifMLu"
      }
    },
    {
      "cell_type": "code",
      "source": [
        "# write your answer here\n",
        "import string\n",
        "import random\n",
        "\n",
        "def generate_random_password(length):\n",
        "    if length < 6:\n",
        "        raise ValueError(\"Password length should be at least 6\")\n",
        "\n",
        "    characters = string.ascii_letters + string.digits + string.punctuation\n",
        "    password = random.choice(string.ascii_uppercase)  # at least one uppercase letter\n",
        "    password += random.choice(string.punctuation)  # at least one special case letter\n",
        "    password += random.choice(string.digits)  # at least one digit\n",
        "    password += ''.join(random.choice(characters) for _ in range(length - 3))\n",
        "\n",
        "    password_list = list(password)\n",
        "    random.shuffle(password_list)\n",
        "    shuffled_password = ''.join(password_list)\n",
        "\n",
        "    return shuffled_password\n",
        "\n",
        "\n",
        "password_length = int(input(\"Enter a length for password: \")) # You can adjust the length as needed\n",
        "random_password = generate_random_password(password_length)\n",
        "print(\"Random Password:\", random_password)\n",
        "\n"
      ],
      "metadata": {
        "id": "BFVrkEi9fNiD",
        "colab": {
          "base_uri": "https://localhost:8080/"
        },
        "outputId": "3b5cb2c1-8835-4b1d-c2d2-e67bff334d05"
      },
      "execution_count": 20,
      "outputs": [
        {
          "output_type": "stream",
          "name": "stdout",
          "text": [
            "Enter a length for password: 12\n",
            "Random Password: 2Oi^qG!r<^I`\n"
          ]
        }
      ]
    },
    {
      "cell_type": "markdown",
      "source": [
        "# Try these questions:"
      ],
      "metadata": {
        "id": "6SmvS7nSfbj8"
      }
    },
    {
      "cell_type": "markdown",
      "source": [
        "(21) Define a base class called 'Vehicle' with attributes make and model. Create a derived class Car that inherits from Vehicle and has an additional attribute 'num_doors'. Demonstrate an example of creating an instance of the 'Car' class and accessing its attributes."
      ],
      "metadata": {
        "id": "cboAr5pEWUf5"
      }
    },
    {
      "cell_type": "code",
      "source": [
        "# write your answer here\n",
        "class Vehicle:\n",
        "    def __init__(self, make, model):\n",
        "        self.make = make\n",
        "        self.model = model\n",
        "\n",
        "class Car(Vehicle):\n",
        "    def __init__(self, make, model, num_doors):\n",
        "        super().__init__(make, model)\n",
        "        self.num_doors = num_doors\n",
        "\n",
        "my_car = Car(make=\"Toyota\", model=\"Prius\", num_doors=2)\n",
        "\n",
        "print(\"Make:\", my_car.make)\n",
        "print(\"Model:\", my_car.model)\n",
        "print(\"Number of Doors:\", my_car.num_doors)\n",
        "\n",
        "\n"
      ],
      "metadata": {
        "id": "phs9gciMWWAW",
        "colab": {
          "base_uri": "https://localhost:8080/"
        },
        "outputId": "f05621ee-9aa7-460a-9ae3-3a3896062c73"
      },
      "execution_count": 21,
      "outputs": [
        {
          "output_type": "stream",
          "name": "stdout",
          "text": [
            "Make: Toyota\n",
            "Model: Prius\n",
            "Number of Doors: 2\n"
          ]
        }
      ]
    },
    {
      "cell_type": "markdown",
      "source": [
        "(22) Create a class called 'Shape' with a method calculate_area(). Implement two derived classes 'Circle' and 'Rectangle' that inherit from Shape and override the calculate_area() method. Demonstrate polymorphism by creating instances of both derived classes and calling the calculate_area() method."
      ],
      "metadata": {
        "id": "J8HHefNtePwd"
      }
    },
    {
      "cell_type": "code",
      "source": [
        "# write your answer here\n",
        "class Shape:\n",
        "    def calculate_area(self):\n",
        "        pass\n",
        "\n",
        "class Circle(Shape):\n",
        "    def __init__(self, radius):\n",
        "        self.radius = radius\n",
        "\n",
        "    def calculate_area(self):\n",
        "        return 3.14 * self.radius ** 2\n",
        "\n",
        "class Rectangle(Shape):\n",
        "    def __init__(self, width, height):\n",
        "        self.width = width\n",
        "        self.height = height\n",
        "\n",
        "    def calculate_area(self):\n",
        "        return self.width * self.height\n",
        "\n",
        "\n",
        "circle = Circle(radius=4)\n",
        "rectangle = Rectangle(width=3, height=2)\n",
        "\n",
        "print(\"Area of the circle:\", circle.calculate_area())\n",
        "print(\"Area of the rectangle:\", rectangle.calculate_area())\n",
        "\n"
      ],
      "metadata": {
        "id": "btnMmUZDeRhS",
        "colab": {
          "base_uri": "https://localhost:8080/"
        },
        "outputId": "d80d7ce0-230e-4cfc-880f-09d87e0efaba"
      },
      "execution_count": 22,
      "outputs": [
        {
          "output_type": "stream",
          "name": "stdout",
          "text": [
            "Area of the circle: 50.24\n",
            "Area of the rectangle: 6\n"
          ]
        }
      ]
    },
    {
      "cell_type": "markdown",
      "source": [
        "(23) Write a Python program that prompts the user to enter two numbers and perform a division operation. Handle exceptions for both zero division and invalid input (non-numeric input). Display appropriate error messages for each type of exception and ensure the program does not crash due to these errors."
      ],
      "metadata": {
        "id": "z0oqEAlTeMUS"
      }
    },
    {
      "cell_type": "code",
      "source": [
        "# write your answer here\n",
        "def division():\n",
        "    try:\n",
        "        # Get input from the user\n",
        "        n1 = float(input(\"Enter the first number: \"))\n",
        "        n2 = float(input(\"Enter the second number: \"))\n",
        "\n",
        "        # Perform division\n",
        "        res = n1 / n2\n",
        "\n",
        "        # Display the result\n",
        "        print(\"Result of division:\", res)\n",
        "\n",
        "    except ValueError:\n",
        "        print(\"Invalid input. Please enter numeric values.\")\n",
        "\n",
        "    except ZeroDivisionError:\n",
        "        print(\"Cannot divide by zero. Please enter a non-zero second number.\")\n",
        "\n",
        "# Call the function\n",
        "division()\n"
      ],
      "metadata": {
        "id": "yjdc1zM1eMAs",
        "colab": {
          "base_uri": "https://localhost:8080/"
        },
        "outputId": "48ee6b43-1f01-4343-bdc0-2c2297592f4f"
      },
      "execution_count": 23,
      "outputs": [
        {
          "output_type": "stream",
          "name": "stdout",
          "text": [
            "Enter the first number: 10\n",
            "Enter the second number: 2\n",
            "Result of division: 5.0\n"
          ]
        }
      ]
    },
    {
      "cell_type": "markdown",
      "source": [
        "# Mandatory Question"
      ],
      "metadata": {
        "id": "sZOhks1dXWEe"
      }
    },
    {
      "cell_type": "markdown",
      "source": [
        "**Important:**\n",
        "Reflecting on the first three lectures and the exercises you've completed, please provide feedback on your learning experience. Share your thoughts on whether the material covered was clear, the exercises were helpful, and if you feel more confident in applying Python programming concepts. Additionally, mention any specific areas where you would like more clarification or topics you would like to explore further in future lectures. Your feedback is valuable in shaping the course for an effective learning journey."
      ],
      "metadata": {
        "id": "eqmHVEwaWhbV"
      }
    },
    {
      "cell_type": "markdown",
      "source": [
        "Write your response here."
      ],
      "metadata": {
        "id": "HlpXOT9wXQAd"
      }
    },
    {
      "cell_type": "markdown",
      "source": [
        "From the last three lectures, I have been able to understand the basics of Python. The demo ipynb files are very helpful in practicing the concepts that were explained in class, and all of the concepts covered are clear."
      ],
      "metadata": {
        "id": "lBEEz4G2uOgC"
      }
    }
  ],
  "metadata": {
    "colab": {
      "provenance": [],
      "include_colab_link": true
    },
    "kernelspec": {
      "display_name": "Python 3 (ipykernel)",
      "language": "python",
      "name": "python3"
    },
    "language_info": {
      "codemirror_mode": {
        "name": "ipython",
        "version": 3
      },
      "file_extension": ".py",
      "mimetype": "text/x-python",
      "name": "python",
      "nbconvert_exporter": "python",
      "pygments_lexer": "ipython3",
      "version": "3.9.12"
    }
  },
  "nbformat": 4,
  "nbformat_minor": 0
}